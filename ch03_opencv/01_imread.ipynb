{
 "cells": [
  {
   "cell_type": "code",
   "execution_count": 1,
   "metadata": {},
   "outputs": [],
   "source": [
    "import cv2 as cv"
   ]
  },
  {
   "cell_type": "code",
   "execution_count": 2,
   "metadata": {},
   "outputs": [],
   "source": [
    "img = cv.imread('data/lenna.bmp')\n",
    "\n",
    "if img is None:\n",
    "    print('Image Load Failed!!')\n",
    "    exit()\n",
    "\n",
    "cv.imshow('image', img)\n",
    "cv.waitKey() # 이 함수 없으면, 켜졌다가 바로 꺼짐 \n",
    "# 그래서, 키보드로 아무 키나 누르기 전까지 이미지 무한 로딩 설정하는 함수\n",
    "# 그래서, ipynb 환경에서는 키 눌러도 안됨, 그냥 파일 꺼야 가능  "
   ]
  }
 ],
 "metadata": {
  "kernelspec": {
   "display_name": "env-keras",
   "language": "python",
   "name": "python3"
  },
  "language_info": {
   "codemirror_mode": {
    "name": "ipython",
    "version": 3
   },
   "file_extension": ".py",
   "mimetype": "text/x-python",
   "name": "python",
   "nbconvert_exporter": "python",
   "pygments_lexer": "ipython3",
   "version": "3.9.17"
  },
  "orig_nbformat": 4
 },
 "nbformat": 4,
 "nbformat_minor": 2
}
