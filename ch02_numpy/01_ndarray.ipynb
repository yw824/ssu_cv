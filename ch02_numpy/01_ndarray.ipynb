{
 "cells": [
  {
   "cell_type": "markdown",
   "metadata": {},
   "source": [
    "### 패키지"
   ]
  },
  {
   "cell_type": "code",
   "execution_count": 1,
   "metadata": {},
   "outputs": [],
   "source": [
    "import numpy as np"
   ]
  },
  {
   "cell_type": "markdown",
   "metadata": {},
   "source": [
    "## Numpy 배열 "
   ]
  },
  {
   "cell_type": "markdown",
   "metadata": {},
   "source": [
    "배열의 모든 요소가 같은 타입이어야 함  \n",
    "타입이 일치하지 않을 경우 가능한 상위 타입을 취함 (upcasting)"
   ]
  },
  {
   "cell_type": "code",
   "execution_count": 2,
   "metadata": {},
   "outputs": [],
   "source": [
    "ans1 = \"전부 문자열로 바뀐다.\"\n",
    "ans2 = \"dtype\"\n",
    "ans3 = \"float32\"\n",
    "ans4 = \"ndim\"\n",
    "ans5 = \"rank\"\n",
    "ans6 = 1"
   ]
  },
  {
   "cell_type": "code",
   "execution_count": 3,
   "metadata": {},
   "outputs": [
    {
     "name": "stdout",
     "output_type": "stream",
     "text": [
      "[3.14, 2, 5, 3]\n",
      "<class 'list'>\n",
      "[3.14 2.   5.   3.  ]\n",
      "<class 'numpy.ndarray'>\n",
      "float64\n"
     ]
    }
   ],
   "source": [
    "arr = [3.14, 2, 5, 3]\n",
    "n_arr = np.array(arr)\n",
    "print(arr)\n",
    "print(type(arr))\n",
    "print(n_arr)\n",
    "print(type(n_arr))\n",
    "print(n_arr.dtype) # float64"
   ]
  },
  {
   "cell_type": "code",
   "execution_count": 4,
   "metadata": {},
   "outputs": [
    {
     "name": "stdout",
     "output_type": "stream",
     "text": [
      "['3.14', 2.0, 5, 3] <class 'list'> ['3.14' '2.0' '5' '3'] <class 'numpy.ndarray'> <U32\n",
      "전부 문자열로 바뀐다.\n"
     ]
    }
   ],
   "source": [
    "# 아래와 같은 경우에는 어떻게 될까?? 손으로 써보고 숨김 결과 확인 // o로 펼치고 숨길 수 있음 \n",
    "arr = ['3.14', 2., 5, 3]\n",
    "n_arr = np.array(arr)\n",
    "\n",
    "print(arr, type(arr), n_arr, type(n_arr), n_arr.dtype)\n",
    "print(ans1)"
   ]
  },
  {
   "cell_type": "code",
   "execution_count": 5,
   "metadata": {},
   "outputs": [
    {
     "name": "stdout",
     "output_type": "stream",
     "text": [
      "명시적으로 데이터 타입을 설정하기 위해서는 dtype 사용\n"
     ]
    }
   ],
   "source": [
    "print(f\"명시적으로 데이터 타입을 설정하기 위해서는 {ans2} 사용\")"
   ]
  },
  {
   "cell_type": "code",
   "execution_count": 7,
   "metadata": {},
   "outputs": [
    {
     "name": "stdout",
     "output_type": "stream",
     "text": [
      "[1, 4, 2, 5, 3]\n",
      "<class 'list'>\n",
      "[1. 4. 2. 5. 3.]\n",
      "<class 'numpy.ndarray'>\n"
     ]
    }
   ],
   "source": [
    "arr = [1, 4, 2, 5, 3]\n",
    "n_arr = np.array(arr, dtype=\"float32\") # ans3에 들어갈 올바른 답 찾기 \n",
    "print(arr)\n",
    "print(type(arr))\n",
    "print(n_arr)\n",
    "print(type(n_arr))"
   ]
  },
  {
   "cell_type": "code",
   "execution_count": null,
   "metadata": {},
   "outputs": [
    {
     "name": "stdout",
     "output_type": "stream",
     "text": [
      "float32\n"
     ]
    }
   ],
   "source": [
    "print(ans3)"
   ]
  },
  {
   "cell_type": "markdown",
   "metadata": {},
   "source": [
    "### 넘파이 배열의 속성 "
   ]
  },
  {
   "cell_type": "code",
   "execution_count": null,
   "metadata": {},
   "outputs": [
    {
     "name": "stdout",
     "output_type": "stream",
     "text": [
      "배열의 차원을 ndim 속성을 통해 알 수 있다.\n"
     ]
    }
   ],
   "source": [
    "print(f\"배열의 차원을 {ans4} 속성을 통해 알 수 있다.\")"
   ]
  },
  {
   "cell_type": "code",
   "execution_count": null,
   "metadata": {},
   "outputs": [
    {
     "name": "stdout",
     "output_type": "stream",
     "text": [
      "차원의 수를 rank를 통해 알 수 있다.\n"
     ]
    }
   ],
   "source": [
    "print(f\"차원의 수를 {ans5}를 통해 알 수 있다.\")"
   ]
  },
  {
   "cell_type": "code",
   "execution_count": null,
   "metadata": {},
   "outputs": [
    {
     "name": "stdout",
     "output_type": "stream",
     "text": [
      "[1 4 2 5 3]\n",
      "1\n",
      "(5,)\n",
      "(5,)\n",
      "1\n",
      "5\n"
     ]
    }
   ],
   "source": [
    "nums = np.array([1, 4, 2, 5, 3])\n",
    "print(nums)\n",
    "print(nums.ndim)\n",
    "print(nums.shape)\n",
    "print(nums.shape)\n",
    "print(len(nums.shape))\n",
    "print(nums.size)"
   ]
  },
  {
   "cell_type": "markdown",
   "metadata": {},
   "source": [
    "항목의 수를 구하기 위해서 len()함수를 사용할 경우 다차원 배열에서 문제 발생 "
   ]
  },
  {
   "cell_type": "code",
   "execution_count": null,
   "metadata": {},
   "outputs": [
    {
     "name": "stdout",
     "output_type": "stream",
     "text": [
      "2 (2, 3) 6\n"
     ]
    }
   ],
   "source": [
    "mularr = np.array([\n",
    "    [1, 2, 3], \n",
    "    [4, 5, 6]\n",
    "])\n",
    "\n",
    "print(len(mularr), mularr.shape, mularr.size) \n",
    "# len은 최상위 차원의 길이만 반환한다. "
   ]
  },
  {
   "cell_type": "markdown",
   "metadata": {},
   "source": [
    "## 인덱싱/슬라이싱 "
   ]
  },
  {
   "cell_type": "code",
   "execution_count": null,
   "metadata": {},
   "outputs": [
    {
     "name": "stdout",
     "output_type": "stream",
     "text": [
      "4\n",
      "[1 4 2]\n",
      "[2 5]\n"
     ]
    }
   ],
   "source": [
    "nums = np.array([1, 4, 2, 5, 3])\n",
    "print(nums[1])\n",
    "print(nums[:3])\n",
    "print(nums[2:4])"
   ]
  },
  {
   "cell_type": "markdown",
   "metadata": {},
   "source": [
    "슬라이싱 : \n",
    "- 배열명[start:stop:step]\n",
    "- 값이 지정되지 않은 경우 기본값 사용 \n",
    "    - start = 0\n",
    "    - stop = 차원의 크기\n",
    "    - step = 1"
   ]
  },
  {
   "cell_type": "code",
   "execution_count": null,
   "metadata": {},
   "outputs": [
    {
     "name": "stdout",
     "output_type": "stream",
     "text": [
      "[1 2 3]\n"
     ]
    }
   ],
   "source": [
    "nums = np.array([1, 4, 2, 5, 3])\n",
    "print(nums[::2]) # 맞춰보세요  0:0:2"
   ]
  },
  {
   "cell_type": "markdown",
   "metadata": {},
   "source": [
    "### 2차원 배열 "
   ]
  },
  {
   "cell_type": "markdown",
   "metadata": {},
   "source": [
    "1차원 리스트를 n개 가지고 있는 리스트 사용 "
   ]
  },
  {
   "cell_type": "code",
   "execution_count": null,
   "metadata": {},
   "outputs": [
    {
     "name": "stdout",
     "output_type": "stream",
     "text": [
      "[[1 4 2]\n",
      " [7 5 3]]\n",
      "2\n",
      "(2, 3)\n",
      "2\n",
      "6\n"
     ]
    }
   ],
   "source": [
    "nums = np.array([\n",
    "    [1, 4, 2], \n",
    "    [7, 5, 3]\n",
    "])\n",
    "print(nums)\n",
    "print(nums.ndim)\n",
    "print(nums.shape)\n",
    "print(len(nums.shape))\n",
    "print(nums.size)"
   ]
  },
  {
   "cell_type": "code",
   "execution_count": null,
   "metadata": {},
   "outputs": [
    {
     "name": "stdout",
     "output_type": "stream",
     "text": [
      "[[1 4 2]\n",
      " [7 5 3]]\n"
     ]
    }
   ],
   "source": [
    "print(nums)"
   ]
  },
  {
   "cell_type": "code",
   "execution_count": null,
   "metadata": {},
   "outputs": [
    {
     "name": "stdout",
     "output_type": "stream",
     "text": [
      "2 2\n"
     ]
    }
   ],
   "source": [
    "print(nums[0][2], nums[0, 2])"
   ]
  },
  {
   "cell_type": "code",
   "execution_count": null,
   "metadata": {},
   "outputs": [
    {
     "name": "stdout",
     "output_type": "stream",
     "text": [
      "[[1 4 2]]\n",
      "[[1 4 2]]\n",
      "[[4]\n",
      " [5]]\n",
      "[5 3]\n",
      "[[4 2]\n",
      " [5 3]]\n"
     ]
    }
   ],
   "source": [
    "print(nums[0:1,])\n",
    "print(nums[0:1, :])\n",
    "print(nums[:, 1:2])\n",
    "print(nums[1, 1:])\n",
    "print(nums[0:, 1:])"
   ]
  },
  {
   "cell_type": "markdown",
   "metadata": {},
   "source": [
    "슬라이싱을 할 경우 범위로 슬라이싱할 때와  \n",
    "특정 행/열을 슬라이싱할 때의 결과가 다르다.  \n",
    "같은 범위라도 인덱싱과 슬라이싱했을 때의 차원이 다르다는 것이다. "
   ]
  },
  {
   "cell_type": "code",
   "execution_count": null,
   "metadata": {},
   "outputs": [
    {
     "name": "stdout",
     "output_type": "stream",
     "text": [
      "5\n",
      "[7 5]\n",
      "[[2]\n",
      " [3]]\n",
      "[[1 4]\n",
      " [7 5]]\n"
     ]
    }
   ],
   "source": [
    "nums = np.array([[1, 4, 2], [7, 5, 3]])\n",
    "# 아래 결과가 나오게 입력하세요.\n",
    "print()\n",
    "print()\n",
    "print()\n",
    "print()\n"
   ]
  },
  {
   "cell_type": "code",
   "execution_count": null,
   "metadata": {},
   "outputs": [
    {
     "name": "stdout",
     "output_type": "stream",
     "text": [
      "5\n",
      "[7 5]\n",
      "[[2]\n",
      " [3]]\n",
      "[[1 4]\n",
      " [7 5]]\n"
     ]
    }
   ],
   "source": [
    "print(nums[1, 1])\n",
    "print(nums[1, :2])\n",
    "print(nums[:, 2:])\n",
    "print(nums[:2, :2])"
   ]
  },
  {
   "cell_type": "markdown",
   "metadata": {},
   "source": [
    "array 함수에 1개만 넣을 경우 어떻게 될까요?? "
   ]
  },
  {
   "cell_type": "code",
   "execution_count": null,
   "metadata": {},
   "outputs": [
    {
     "name": "stdout",
     "output_type": "stream",
     "text": [
      "3\n",
      "0\n",
      "()\n"
     ]
    }
   ],
   "source": [
    "nums = np.array(3)\n",
    "print(nums)\n",
    "print(nums.ndim)\n",
    "print(nums.shape)"
   ]
  },
  {
   "cell_type": "markdown",
   "metadata": {},
   "source": [
    "### deep copy "
   ]
  },
  {
   "cell_type": "markdown",
   "metadata": {},
   "source": [
    "배열에 대한 검색/슬라이싱 결과는 참조만 할당  \n",
    "- 기존 배열이 변경될 경우 값이 같이 변경됨 \n",
    "- 독립적으로 사용해야 할 경우 copy() 함수 사용 "
   ]
  },
  {
   "cell_type": "code",
   "execution_count": null,
   "metadata": {},
   "outputs": [
    {
     "name": "stdout",
     "output_type": "stream",
     "text": [
      "[ 4  2 10]\n",
      "[4 2 5]\n",
      "[ 1  4  2 10  3]\n",
      "4689115984 4689115984 5105696080\n"
     ]
    }
   ],
   "source": [
    "nums = np.array([1, 4, 2, 5, 3])\n",
    "ref = nums[1:4]\n",
    "cpy = nums[1:4].copy()\n",
    "ref[2] = 10\n",
    "print(ref)\n",
    "print(cpy)\n",
    "print(nums)\n",
    "print(id(nums[1]), id(ref[0]), id(cpy)) # 첫 원소의 주소가 동일하다 -> 메모리 주소만 갖다 준 거 "
   ]
  },
  {
   "cell_type": "markdown",
   "metadata": {},
   "source": [
    "### 내장 함수를 이용한 배열 생성 "
   ]
  },
  {
   "cell_type": "markdown",
   "metadata": {},
   "source": [
    "- zeros(shape) : 모든 값이 0인 배열 생성 \n",
    "- ones(shape) : 모든 값이 1인 배열 생성 \n",
    "- full(shape, value) : 모든 값이 value인 배열 생성 \n",
    "- shape => tuple값이여야 함 "
   ]
  },
  {
   "cell_type": "code",
   "execution_count": null,
   "metadata": {},
   "outputs": [
    {
     "data": {
      "text/plain": [
       "array([[0., 0.],\n",
       "       [0., 0.]])"
      ]
     },
     "execution_count": 46,
     "metadata": {},
     "output_type": "execute_result"
    }
   ],
   "source": [
    "np.zeros((2, 2))"
   ]
  },
  {
   "cell_type": "code",
   "execution_count": null,
   "metadata": {},
   "outputs": [
    {
     "data": {
      "text/plain": [
       "array([[1., 1., 1.],\n",
       "       [1., 1., 1.],\n",
       "       [1., 1., 1.]])"
      ]
     },
     "execution_count": 47,
     "metadata": {},
     "output_type": "execute_result"
    }
   ],
   "source": [
    "np.ones((3, 3))"
   ]
  },
  {
   "cell_type": "code",
   "execution_count": null,
   "metadata": {},
   "outputs": [
    {
     "data": {
      "text/plain": [
       "array([7])"
      ]
     },
     "execution_count": 53,
     "metadata": {},
     "output_type": "execute_result"
    }
   ],
   "source": [
    "np.full((1, ), 7)\n",
    "# 1차원 = (1,) != (1, 1) = 2차원"
   ]
  },
  {
   "cell_type": "markdown",
   "metadata": {},
   "source": [
    "- eye(size, k=n) : \n",
    "    - size * size인 단위행렬 생성 후 k만큼 이동 \n",
    "- identity(size) : \n",
    "    - size * size인 단위행렬 생성 "
   ]
  },
  {
   "cell_type": "code",
   "execution_count": null,
   "metadata": {},
   "outputs": [
    {
     "data": {
      "text/plain": [
       "array([[0., 1., 0.],\n",
       "       [0., 0., 1.],\n",
       "       [0., 0., 0.]])"
      ]
     },
     "execution_count": 57,
     "metadata": {},
     "output_type": "execute_result"
    }
   ],
   "source": [
    "np.eye(3, k=1) # 1만큼 오른쪽으로 이동, 그러나 (2, 2)의 값은 다시 (2, 0)으로 오지 않는다. "
   ]
  },
  {
   "cell_type": "code",
   "execution_count": null,
   "metadata": {},
   "outputs": [
    {
     "data": {
      "text/plain": [
       "array([[1., 0., 0.],\n",
       "       [0., 1., 0.],\n",
       "       [0., 0., 1.]])"
      ]
     },
     "execution_count": 58,
     "metadata": {},
     "output_type": "execute_result"
    }
   ],
   "source": [
    "np.identity(3)"
   ]
  },
  {
   "cell_type": "markdown",
   "metadata": {},
   "source": [
    "### random 함수 "
   ]
  },
  {
   "cell_type": "markdown",
   "metadata": {},
   "source": [
    "- np.random.random(shape) : shape 형태의 0과 1 사이의 임의의 실수로 채운다. \n",
    "- np.random.randint(low, high, shape) : shape 형태의 low <= x< high 범위의 정수값으로 채운다. \n",
    "- np.random.normal(shape) : 정규분포를 따르는 난수 생성 "
   ]
  },
  {
   "cell_type": "code",
   "execution_count": null,
   "metadata": {},
   "outputs": [
    {
     "data": {
      "text/plain": [
       "array([[0.14165483, 0.02157615, 0.61358399],\n",
       "       [0.82794905, 0.38346901, 0.4305981 ]])"
      ]
     },
     "execution_count": 59,
     "metadata": {},
     "output_type": "execute_result"
    }
   ],
   "source": [
    "np.random.random((2, 3))"
   ]
  },
  {
   "cell_type": "code",
   "execution_count": null,
   "metadata": {},
   "outputs": [
    {
     "data": {
      "text/plain": [
       "array([2.14180844, 2.41203368])"
      ]
     },
     "execution_count": 60,
     "metadata": {},
     "output_type": "execute_result"
    }
   ],
   "source": [
    "np.random.normal((2, 3))"
   ]
  },
  {
   "cell_type": "code",
   "execution_count": null,
   "metadata": {},
   "outputs": [
    {
     "data": {
      "text/plain": [
       "array([[2, 9, 4],\n",
       "       [3, 6, 8]])"
      ]
     },
     "execution_count": 61,
     "metadata": {},
     "output_type": "execute_result"
    }
   ],
   "source": [
    "np.random.randint(1, 10, (2, 3))"
   ]
  },
  {
   "cell_type": "markdown",
   "metadata": {},
   "source": [
    "### linspace  \n",
    "- np.linspace(start, stop, num, endpoint, retstep) : start, stop까지의 같은 간격의 1차원 배열 생성 \n",
    "- num : 1차원 numpy 배열 원소 개수 \n",
    "- endpoint : end 포함여부 True / False로 구분 \n",
    "- retstep : step 출력할 지 안 할지 True / False로 구분 "
   ]
  },
  {
   "cell_type": "code",
   "execution_count": null,
   "metadata": {},
   "outputs": [
    {
     "name": "stdout",
     "output_type": "stream",
     "text": [
      "(array([0.  , 0.25, 0.5 , 0.75, 1.  ]), 0.25)\n",
      "0.25\n"
     ]
    }
   ],
   "source": [
    "print(np.linspace(0, 1, num=5, endpoint=True, retstep=True)) # tuple 형태 \n",
    "print(np.linspace(0, 1, num=5, endpoint=True, retstep=True)[1])"
   ]
  },
  {
   "cell_type": "markdown",
   "metadata": {},
   "source": [
    "- np.arange(start, stop, step, dtype=??) : start부터 stop 전까지 step만큼 띄워서 배열 생성 "
   ]
  },
  {
   "cell_type": "code",
   "execution_count": null,
   "metadata": {},
   "outputs": [
    {
     "data": {
      "text/plain": [
       "array([ 0,  1,  2,  3,  4,  5,  6,  7,  8,  9, 10, 11])"
      ]
     },
     "execution_count": 67,
     "metadata": {},
     "output_type": "execute_result"
    }
   ],
   "source": [
    "np.arange(0, 12)"
   ]
  },
  {
   "cell_type": "markdown",
   "metadata": {},
   "source": [
    "## 행렬 전환과 형태 변형 "
   ]
  },
  {
   "cell_type": "markdown",
   "metadata": {},
   "source": [
    "- np.reshape(shape) : shape 튜플 만큼의 크기로 변형 \n",
    "- 기존 배열과 새로운 배열의 아이템 수는 동일해야 함 => np.array.size 속성이 동일해야함 "
   ]
  },
  {
   "cell_type": "code",
   "execution_count": 8,
   "metadata": {},
   "outputs": [
    {
     "name": "stdout",
     "output_type": "stream",
     "text": [
      "8 (8,)\n",
      "8 (2, 4)\n"
     ]
    }
   ],
   "source": [
    "sap = np.array([\"MMM\", \"ABT\", \"ABBV\", \"ACN\", \"ACE\", \"ATVI\", \"ABDE\", \"ADT\"])\n",
    "print(sap.size, sap.shape)\n",
    "sap2d = sap.reshape(2, 4)\n",
    "print(sap2d.size, sap2d.shape)"
   ]
  },
  {
   "cell_type": "markdown",
   "metadata": {},
   "source": [
    "전치(Transpose)\n",
    "- 함수 호출이 아닌 속성 T를 사용 "
   ]
  },
  {
   "cell_type": "code",
   "execution_count": 9,
   "metadata": {},
   "outputs": [
    {
     "name": "stdout",
     "output_type": "stream",
     "text": [
      "[['MMM' 'ABT' 'ABBV' 'ACN']\n",
      " ['ACE' 'ATVI' 'ABDE' 'ADT']]\n",
      "[['MMM' 'ACE']\n",
      " ['ABT' 'ATVI']\n",
      " ['ABBV' 'ABDE']\n",
      " ['ACN' 'ADT']]\n",
      "(2, 4) (4, 2)\n"
     ]
    }
   ],
   "source": [
    "print(sap2d)\n",
    "print(sap2d.T)\n",
    "print(sap2d.shape, sap2d.T.shape)"
   ]
  },
  {
   "cell_type": "markdown",
   "metadata": {},
   "source": [
    "### 행열 전환과 형태 변형  \n",
    "- `swapaxes(axis_1, axis_2)`\n",
    "- 축1(axis_1)과 축2(axis_2)를 서로 맞바꿈 "
   ]
  },
  {
   "cell_type": "code",
   "execution_count": 10,
   "metadata": {},
   "outputs": [
    {
     "data": {
      "text/plain": [
       "array(['MMM', 'ABT', 'ABBV', 'ACN', 'ACE', 'ATVI', 'ABDE', 'ADT'],\n",
       "      dtype='<U4')"
      ]
     },
     "execution_count": 10,
     "metadata": {},
     "output_type": "execute_result"
    }
   ],
   "source": [
    "sap"
   ]
  },
  {
   "cell_type": "code",
   "execution_count": 11,
   "metadata": {},
   "outputs": [
    {
     "name": "stdout",
     "output_type": "stream",
     "text": [
      "[['MMM' 'ABT' 'ABBV' 'ACN']\n",
      " ['ACE' 'ATVI' 'ABDE' 'ADT']]\n",
      "[['MMM' 'ACE']\n",
      " ['ABT' 'ATVI']\n",
      " ['ABBV' 'ABDE']\n",
      " ['ACN' 'ADT']]\n",
      "[['MMM' 'ACE']\n",
      " ['ABT' 'ATVI']\n",
      " ['ABBV' 'ABDE']\n",
      " ['ACN' 'ADT']]\n"
     ]
    }
   ],
   "source": [
    "sap2d = sap.reshape(2, 4)\n",
    "print(sap2d)\n",
    "print(sap2d.T)\n",
    "print(sap2d.swapaxes(0, 1))"
   ]
  },
  {
   "cell_type": "code",
   "execution_count": 12,
   "metadata": {},
   "outputs": [
    {
     "data": {
      "text/plain": [
       "array(['MMM', 'ABT', 'ABBV', 'ACN', 'ACE', 'ATVI', 'ABDE', 'ADT'],\n",
       "      dtype='<U4')"
      ]
     },
     "execution_count": 12,
     "metadata": {},
     "output_type": "execute_result"
    }
   ],
   "source": [
    "sap"
   ]
  },
  {
   "cell_type": "code",
   "execution_count": 14,
   "metadata": {},
   "outputs": [
    {
     "data": {
      "text/plain": [
       "array([[['MMM', 'ABT'],\n",
       "        ['ABBV', 'ACN']],\n",
       "\n",
       "       [['ACE', 'ATVI'],\n",
       "        ['ABDE', 'ADT']]], dtype='<U4')"
      ]
     },
     "execution_count": 14,
     "metadata": {},
     "output_type": "execute_result"
    }
   ],
   "source": [
    "sap3d = sap.reshape(2, 2, 2) # 2 * 2 * 2 = 8\n",
    "sap3d"
   ]
  },
  {
   "cell_type": "code",
   "execution_count": 18,
   "metadata": {},
   "outputs": [
    {
     "name": "stdout",
     "output_type": "stream",
     "text": [
      "[[['MMM' 'ABBV']\n",
      "  ['ABT' 'ACN']]\n",
      "\n",
      " [['ACE' 'ABDE']\n",
      "  ['ATVI' 'ADT']]]\n"
     ]
    }
   ],
   "source": [
    "print(sap3d.swapaxes(1, 2))"
   ]
  },
  {
   "cell_type": "code",
   "execution_count": 19,
   "metadata": {},
   "outputs": [
    {
     "name": "stdout",
     "output_type": "stream",
     "text": [
      "[[['MMM' 'ABT']\n",
      "  ['ACE' 'ATVI']]\n",
      "\n",
      " [['ABBV' 'ACN']\n",
      "  ['ABDE' 'ADT']]]\n"
     ]
    }
   ],
   "source": [
    "print(sap3d.swapaxes(0, 1))"
   ]
  },
  {
   "cell_type": "code",
   "execution_count": 20,
   "metadata": {},
   "outputs": [
    {
     "name": "stdout",
     "output_type": "stream",
     "text": [
      "[[['MMM' 'ACE']\n",
      "  ['ABBV' 'ABDE']]\n",
      "\n",
      " [['ABT' 'ATVI']\n",
      "  ['ACN' 'ADT']]]\n"
     ]
    }
   ],
   "source": [
    "print(sap3d.swapaxes(0, 2))"
   ]
  },
  {
   "cell_type": "code",
   "execution_count": 21,
   "metadata": {},
   "outputs": [
    {
     "name": "stdout",
     "output_type": "stream",
     "text": [
      "[[['MMM' 'ACE']\n",
      "  ['ABBV' 'ABDE']]\n",
      "\n",
      " [['ABT' 'ATVI']\n",
      "  ['ACN' 'ADT']]]\n"
     ]
    }
   ],
   "source": [
    "print(sap3d.T) # swapaxes(0, 2)의 결과와 동일 "
   ]
  },
  {
   "cell_type": "markdown",
   "metadata": {},
   "source": [
    "### numpy 배열의 연결 - concatenate \n",
    "- 파라미터 : 리스트 -> 몇 개를 순서대로 concatenate할 지 모르기 때문이다. "
   ]
  },
  {
   "cell_type": "code",
   "execution_count": 23,
   "metadata": {},
   "outputs": [
    {
     "name": "stdout",
     "output_type": "stream",
     "text": [
      "[1 2 3 3 2 1]\n"
     ]
    }
   ],
   "source": [
    "x = np.array([1, 2, 3])\n",
    "y = np.array([3, 2, 1])\n",
    "print(np.concatenate([x, y]))"
   ]
  },
  {
   "cell_type": "code",
   "execution_count": 24,
   "metadata": {},
   "outputs": [
    {
     "name": "stdout",
     "output_type": "stream",
     "text": [
      "[1 2 3 3 2 1 4 5 6]\n"
     ]
    }
   ],
   "source": [
    "z = np.array([4, 5, 6])\n",
    "print(np.concatenate([x, y, z]))"
   ]
  },
  {
   "cell_type": "markdown",
   "metadata": {},
   "source": [
    "1차원 배열끼리 concatenate은 axis 적용 안됨 "
   ]
  },
  {
   "cell_type": "code",
   "execution_count": 28,
   "metadata": {},
   "outputs": [
    {
     "name": "stdout",
     "output_type": "stream",
     "text": [
      "[[1 2 3]\n",
      " [4 5 6]\n",
      " [1 2 3]\n",
      " [4 5 6]]\n",
      "(2, 3) (4, 3)\n"
     ]
    }
   ],
   "source": [
    "grid = np.array([\n",
    "    [1, 2, 3], \n",
    "    [4, 5, 6]\n",
    "])\n",
    "print(np.concatenate([grid, grid])) # 가장 높은 차원 기준으로 추가 후 가장 바깥 리스트 추가 \n",
    "print(grid.shape, np.concatenate([grid, grid]).shape)"
   ]
  },
  {
   "cell_type": "code",
   "execution_count": 29,
   "metadata": {},
   "outputs": [
    {
     "name": "stdout",
     "output_type": "stream",
     "text": [
      "[[1 2 3 1 2 3]\n",
      " [4 5 6 4 5 6]]\n"
     ]
    }
   ],
   "source": [
    "print(np.concatenate([grid, grid], axis=1)) # 2차원 이상일 때만 적용됨 "
   ]
  }
 ],
 "metadata": {
  "kernelspec": {
   "display_name": "env-keras",
   "language": "python",
   "name": "python3"
  },
  "language_info": {
   "codemirror_mode": {
    "name": "ipython",
    "version": 3
   },
   "file_extension": ".py",
   "mimetype": "text/x-python",
   "name": "python",
   "nbconvert_exporter": "python",
   "pygments_lexer": "ipython3",
   "version": "3.9.17"
  },
  "orig_nbformat": 4
 },
 "nbformat": 4,
 "nbformat_minor": 2
}
