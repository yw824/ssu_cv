{
 "cells": [
  {
   "cell_type": "markdown",
   "metadata": {},
   "source": [
    "### 패키지 "
   ]
  },
  {
   "cell_type": "code",
   "execution_count": 1,
   "metadata": {},
   "outputs": [],
   "source": [
    "import numpy as np"
   ]
  },
  {
   "cell_type": "markdown",
   "metadata": {},
   "source": [
    "### Numpy 배열의 연결 - vstack"
   ]
  },
  {
   "cell_type": "code",
   "execution_count": 2,
   "metadata": {},
   "outputs": [
    {
     "name": "stdout",
     "output_type": "stream",
     "text": [
      "[[9 8 7]\n",
      " [1 2 3]\n",
      " [4 5 6]]\n"
     ]
    }
   ],
   "source": [
    "x = np.array([9, 8, 7])\n",
    "grid = np.array([\n",
    "    [1, 2, 3], \n",
    "    [4, 5, 6]\n",
    "])\n",
    "print(np.vstack([x, grid]))"
   ]
  },
  {
   "cell_type": "code",
   "execution_count": 7,
   "metadata": {},
   "outputs": [
    {
     "ename": "ValueError",
     "evalue": "all the input arrays must have same number of dimensions, but the array at index 0 has 1 dimension(s) and the array at index 1 has 2 dimension(s)",
     "output_type": "error",
     "traceback": [
      "\u001b[0;31m---------------------------------------------------------------------------\u001b[0m",
      "\u001b[0;31mValueError\u001b[0m                                Traceback (most recent call last)",
      "\u001b[1;32m/Users/com/dev/ssu_cv/ch02_numpy/02_vstack.ipynb Cell 5\u001b[0m line \u001b[0;36m1\n\u001b[0;32m----> <a href='vscode-notebook-cell:/Users/com/dev/ssu_cv/ch02_numpy/02_vstack.ipynb#W6sZmlsZQ%3D%3D?line=0'>1</a>\u001b[0m \u001b[39mprint\u001b[39m(np\u001b[39m.\u001b[39;49mconcatenate([x, grid], axis\u001b[39m=\u001b[39;49m\u001b[39m0\u001b[39;49m))\n",
      "File \u001b[0;32m<__array_function__ internals>:180\u001b[0m, in \u001b[0;36mconcatenate\u001b[0;34m(*args, **kwargs)\u001b[0m\n",
      "\u001b[0;31mValueError\u001b[0m: all the input arrays must have same number of dimensions, but the array at index 0 has 1 dimension(s) and the array at index 1 has 2 dimension(s)"
     ]
    }
   ],
   "source": [
    "print(np.concatenate([x, grid], axis=0))\n",
    "# 될 거 같은데 안된다. "
   ]
  },
  {
   "cell_type": "code",
   "execution_count": 8,
   "metadata": {},
   "outputs": [
    {
     "name": "stdout",
     "output_type": "stream",
     "text": [
      "(2, 1) (2, 3)\n",
      "[[9 1 2 3]\n",
      " [8 4 5 6]]\n"
     ]
    }
   ],
   "source": [
    "y = np.array([\n",
    "    [9], \n",
    "    [8]\n",
    "])\n",
    "grid = np.array([\n",
    "    [1, 2, 3], \n",
    "    [4, 5, 6]\n",
    "])\n",
    "print(y.shape, grid.shape)\n",
    "print(np.hstack([y, grid]))"
   ]
  },
  {
   "cell_type": "markdown",
   "metadata": {},
   "source": [
    "### Numpy 배열의 분할 "
   ]
  },
  {
   "cell_type": "markdown",
   "metadata": {},
   "source": [
    "- split()\n",
    "- hsplit()\n",
    "- vsplit()\n",
    "- dsplit()"
   ]
  },
  {
   "cell_type": "code",
   "execution_count": 9,
   "metadata": {},
   "outputs": [
    {
     "name": "stdout",
     "output_type": "stream",
     "text": [
      "[1 2 3] [99 99] [3 2 1]\n"
     ]
    }
   ],
   "source": [
    "x = [1, 2, 3, 99, 99, 3, 2, 1]\n",
    "x1, x2, x3 = np.split(x, [3, 5]) # 0~ /3~ /5~ # 구분 : 언제 얼마나 나눌 지 몰라서 리스트 \n",
    "print(x1, x2, x3)"
   ]
  },
  {
   "cell_type": "code",
   "execution_count": 21,
   "metadata": {},
   "outputs": [
    {
     "name": "stdout",
     "output_type": "stream",
     "text": [
      "[[ 0  1  2  3]\n",
      " [ 4  5  6  7]\n",
      " [ 8  9 10 11]\n",
      " [12 13 14 15]]\n",
      "--------------\n",
      "[[0 1 2 3]\n",
      " [4 5 6 7]]\n",
      "--------------\n",
      "[[ 8  9 10 11]\n",
      " [12 13 14 15]]\n"
     ]
    }
   ],
   "source": [
    "grid = np.arange(16).reshape(4, 4)\n",
    "print(grid)\n",
    "upper, lower = np.split(grid, [2], axis=0)\n",
    "print('--------------')\n",
    "print(upper)\n",
    "print('--------------')\n",
    "print(lower)"
   ]
  },
  {
   "cell_type": "code",
   "execution_count": 22,
   "metadata": {},
   "outputs": [
    {
     "name": "stdout",
     "output_type": "stream",
     "text": [
      "[[ 0  1]\n",
      " [ 4  5]\n",
      " [ 8  9]\n",
      " [12 13]]\n",
      "[[ 2  3]\n",
      " [ 6  7]\n",
      " [10 11]\n",
      " [14 15]]\n"
     ]
    }
   ],
   "source": [
    "grid = np.arange(16).reshape(4, 4)\n",
    "x, y = np.split(grid, [2], axis=1)\n",
    "print(x)\n",
    "print(y)"
   ]
  },
  {
   "cell_type": "markdown",
   "metadata": {},
   "source": [
    "### numpy 배열 연산 "
   ]
  },
  {
   "cell_type": "markdown",
   "metadata": {},
   "source": [
    "$$C = (F-32)*5/9$$"
   ]
  },
  {
   "cell_type": "code",
   "execution_count": 24,
   "metadata": {},
   "outputs": [
    {
     "data": {
      "text/plain": [
       "[37, 26, 21, 32, 43]"
      ]
     },
     "execution_count": 24,
     "metadata": {},
     "output_type": "execute_result"
    }
   ],
   "source": [
    "arr = [100, 80, 70, 90, 110]\n",
    "[int((elem - 32) * 5/9) for elem in arr]"
   ]
  },
  {
   "cell_type": "code",
   "execution_count": 31,
   "metadata": {},
   "outputs": [
    {
     "name": "stdout",
     "output_type": "stream",
     "text": [
      "[37. 26. 21. 32. 43.]\n"
     ]
    }
   ],
   "source": [
    "narr = np.array(arr)\n",
    "print(np.trunc((narr - 32)*5/9))"
   ]
  },
  {
   "cell_type": "code",
   "execution_count": 2,
   "metadata": {},
   "outputs": [
    {
     "name": "stdout",
     "output_type": "stream",
     "text": [
      "[2 4 6 8]\n",
      "[ 7  9 11 13]\n",
      "[-3 -1  1  3]\n",
      "[ 4  8 12 16]\n",
      "float64\n"
     ]
    }
   ],
   "source": [
    "x = np.array([2, 4, 6, 8])\n",
    "print(x)\n",
    "print(x + 5)\n",
    "print(x - 5)\n",
    "print(x * 2)\n",
    "print((x / 2).dtype) # 짝수여서 나머지가 없어도 float64로 일단 변환 "
   ]
  },
  {
   "cell_type": "markdown",
   "metadata": {},
   "source": [
    "### 브로드캐스팅 "
   ]
  },
  {
   "cell_type": "code",
   "execution_count": 3,
   "metadata": {},
   "outputs": [
    {
     "name": "stdout",
     "output_type": "stream",
     "text": [
      "[5 6 7 8]\n"
     ]
    }
   ],
   "source": [
    "a = np.array(4) # [4, 4, 4, 4]로 브로드캐스팅 \n",
    "b = np.arange(1, 5) # [1, 2, 3, 4]\n",
    "print(a + b)"
   ]
  },
  {
   "cell_type": "code",
   "execution_count": 4,
   "metadata": {},
   "outputs": [
    {
     "data": {
      "text/plain": [
       "array([ 0,  5, 10, 15])"
      ]
     },
     "execution_count": 4,
     "metadata": {},
     "output_type": "execute_result"
    }
   ],
   "source": [
    "a = np.arange(4) # [0, 1, 2, 3]\n",
    "b = 5\n",
    "a * b"
   ]
  },
  {
   "cell_type": "code",
   "execution_count": 6,
   "metadata": {},
   "outputs": [
    {
     "name": "stdout",
     "output_type": "stream",
     "text": [
      "[[1. 0. 0. 0.]\n",
      " [0. 1. 0. 0.]\n",
      " [0. 0. 1. 0.]\n",
      " [0. 0. 0. 1.]]\n",
      "[1. 1. 1. 1.]\n",
      "[[1.01 0.01 0.01 0.01]\n",
      " [0.01 1.01 0.01 0.01]\n",
      " [0.01 0.01 1.01 0.01]\n",
      " [0.01 0.01 0.01 1.01]]\n"
     ]
    }
   ],
   "source": [
    "noise = np.eye(4) + 0.01 * np.ones((4,))\n",
    "print(np.eye(4))\n",
    "print(np.ones(4,))\n",
    "print(noise)"
   ]
  },
  {
   "cell_type": "markdown",
   "metadata": {},
   "source": [
    "브로드캐스팅 규칙: \n",
    "1. 두 배열의 차원 수가 다르면, 더 적은 차원의 수를 가진 배열 형상의 앞쪽(왼쪽)을 1로 채운다. \n",
    "2. 두 배열의 형상이 어떤 차원에서 일치하지 않는다면, 해당 차원의 형상이 1인 배열이 다른 형상과 일치하도록 늘어난다. \n",
    "3. 임의의 차원에서 크기가 일치하지 않고 1도 아니라면 오류가 발생한다. "
   ]
  },
  {
   "cell_type": "code",
   "execution_count": 7,
   "metadata": {},
   "outputs": [
    {
     "name": "stdout",
     "output_type": "stream",
     "text": [
      "(3, 2) (3,)\n"
     ]
    }
   ],
   "source": [
    "m = np.ones((3, 2))\n",
    "a = np.arange(3)\n",
    "print(m.shape, a.shape)"
   ]
  },
  {
   "cell_type": "code",
   "execution_count": 8,
   "metadata": {},
   "outputs": [
    {
     "ename": "ValueError",
     "evalue": "operands could not be broadcast together with shapes (3,2) (3,) ",
     "output_type": "error",
     "traceback": [
      "\u001b[0;31m---------------------------------------------------------------------------\u001b[0m",
      "\u001b[0;31mValueError\u001b[0m                                Traceback (most recent call last)",
      "\u001b[1;32m/Users/com/dev/ssu_cv/ch02_numpy/02_vstack.ipynb Cell 23\u001b[0m line \u001b[0;36m1\n\u001b[0;32m----> <a href='vscode-notebook-cell:/Users/com/dev/ssu_cv/ch02_numpy/02_vstack.ipynb#X33sZmlsZQ%3D%3D?line=0'>1</a>\u001b[0m m \u001b[39m+\u001b[39;49m a\n",
      "\u001b[0;31mValueError\u001b[0m: operands could not be broadcast together with shapes (3,2) (3,) "
     ]
    }
   ],
   "source": [
    "m + a\n",
    "# (3,2)+(3,) => (3,2) + (1,3) => (3,2)+(3,3) => error"
   ]
  },
  {
   "cell_type": "markdown",
   "metadata": {},
   "source": [
    "### abs: 절댓값 함수 "
   ]
  },
  {
   "cell_type": "code",
   "execution_count": 9,
   "metadata": {},
   "outputs": [
    {
     "name": "stdout",
     "output_type": "stream",
     "text": [
      "[1 0 1]\n"
     ]
    }
   ],
   "source": [
    "a = np.array([-1, 0, 1])\n",
    "print(abs(a))"
   ]
  }
 ],
 "metadata": {
  "kernelspec": {
   "display_name": "env-keras",
   "language": "python",
   "name": "python3"
  },
  "language_info": {
   "codemirror_mode": {
    "name": "ipython",
    "version": 3
   },
   "file_extension": ".py",
   "mimetype": "text/x-python",
   "name": "python",
   "nbconvert_exporter": "python",
   "pygments_lexer": "ipython3",
   "version": "3.9.17"
  },
  "orig_nbformat": 4
 },
 "nbformat": 4,
 "nbformat_minor": 2
}
