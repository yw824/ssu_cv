{
 "cells": [
  {
   "cell_type": "code",
   "execution_count": 1,
   "metadata": {},
   "outputs": [],
   "source": [
    "import numpy as np\n",
    "import cv2"
   ]
  },
  {
   "cell_type": "markdown",
   "metadata": {},
   "source": [
    "## 히스토그램 구하기 "
   ]
  },
  {
   "cell_type": "markdown",
   "metadata": {},
   "source": [
    "영상의 히스토그램(histogram) : 영상의 픽셀 값 분포를  \n",
    "그래프 형태로 표현한 것을 의미 "
   ]
  },
  {
   "cell_type": "markdown",
   "metadata": {},
   "source": [
    "GrayScale 영상의 경우, 각 GrayScale 값에 해당하는  \n",
    "픽셀의 개수를 구하고 이를 막대 그래프 형태로 표현함으로써  \n",
    "히스토그램을 구할 수 있음 "
   ]
  },
  {
   "cell_type": "markdown",
   "metadata": {},
   "source": [
    "컬러 영상에 대해서도 세 개의 색상 성분 조합에 따른  \n",
    "픽셀 개수를 계산하여 히스토그램을 구할 수 있음 "
   ]
  },
  {
   "cell_type": "markdown",
   "metadata": {},
   "source": [
    "왼쪽에 나타난 4x4 입력 영상은, 각 픽셀이 0부터 7 사이에 밝기를 가질 수 있는  \n",
    "단순한 형태의 영상 "
   ]
  },
  {
   "cell_type": "markdown",
   "metadata": {},
   "source": [
    "각각의 밝기에 해당하는 픽셀 개수를 세어서  \n",
    "막대그래프 형태로 표현한 히스토그램을 오른쪽에 나타냄  \n",
    "[p35-이미지 입력 공간]"
   ]
  },
  {
   "cell_type": "markdown",
   "metadata": {},
   "source": [
    "`bin`: 히스토그램 그래프에서 가로축을 bin이라 한다.  \n",
    "grayscale 영상의 경우에는 256개의 빈을 갖는 히스토그램을 구하는 것이 일반적 "
   ]
  },
  {
   "cell_type": "markdown",
   "metadata": {},
   "source": [
    "경우에 따라서는 히스토그램의 빈 개수를 픽셀 값 범위보다 작게 설정할 수도 있음 (정규화 통해)"
   ]
  },
  {
   "cell_type": "markdown",
   "metadata": {},
   "source": [
    "연산량 많아질 수 있다. "
   ]
  },
  {
   "cell_type": "markdown",
   "metadata": {},
   "source": [
    "히스토그램의 빈 개수가 줄어들면 히스토그램이 표현하는 영상의 픽셀 값 분포 모양이  \n",
    "더 대략적인 형태로 바뀜  \n",
    "빈 개수가 많으면 세밀한 픽셀 값 분포 표현이 가능 "
   ]
  },
  {
   "cell_type": "markdown",
   "metadata": {},
   "source": [
    "calcHist() 함수로 히스토그램 알 수 있음  \n",
    "다양한 형식의 히스토그램을 지원하기 때문에 calcHist() 함수의 사용법은 꽤 복잡한 편 "
   ]
  },
  {
   "cell_type": "code",
   "execution_count": 4,
   "metadata": {},
   "outputs": [],
   "source": [
    "def calcGrayHist(img):\n",
    "    channels = [0] # 채널의 경우에도 멀티채널인 경우가 있으므로 list 형태로 전달 \n",
    "    histSize = [256]\n",
    "    histRange = [0, 256]\n",
    "\n",
    "    hist = cv2.calcHist([img], channels, None, histSize, histRange)\n",
    "    return hist"
   ]
  },
  {
   "cell_type": "code",
   "execution_count": 3,
   "metadata": {},
   "outputs": [
    {
     "ename": "error",
     "evalue": "OpenCV(4.6.0) :-1: error: (-5:Bad argument) in function 'calcHist'\n> Overload resolution failed:\n>  - Can't parse 'images'. Sequence item with index 0 has a wrong type\n>  - Can't parse 'images'. Sequence item with index 0 has a wrong type\n",
     "output_type": "error",
     "traceback": [
      "\u001b[0;31m---------------------------------------------------------------------------\u001b[0m",
      "\u001b[0;31merror\u001b[0m                                     Traceback (most recent call last)",
      "\u001b[1;32m/Users/com/dev/ssu_cv/ch05_image_brighness/03_histogram.ipynb Cell 14\u001b[0m line \u001b[0;36m1\n\u001b[0;32m----> <a href='vscode-notebook-cell:/Users/com/dev/ssu_cv/ch05_image_brighness/03_histogram.ipynb#X35sZmlsZQ%3D%3D?line=0'>1</a>\u001b[0m calcGrayHist(\u001b[39m'\u001b[39;49m\u001b[39mdata/lenna.bmp\u001b[39;49m\u001b[39m'\u001b[39;49m)\n",
      "\u001b[1;32m/Users/com/dev/ssu_cv/ch05_image_brighness/03_histogram.ipynb Cell 14\u001b[0m line \u001b[0;36m6\n\u001b[1;32m      <a href='vscode-notebook-cell:/Users/com/dev/ssu_cv/ch05_image_brighness/03_histogram.ipynb#X35sZmlsZQ%3D%3D?line=2'>3</a>\u001b[0m histSize \u001b[39m=\u001b[39m [\u001b[39m256\u001b[39m]\n\u001b[1;32m      <a href='vscode-notebook-cell:/Users/com/dev/ssu_cv/ch05_image_brighness/03_histogram.ipynb#X35sZmlsZQ%3D%3D?line=3'>4</a>\u001b[0m histRange \u001b[39m=\u001b[39m [\u001b[39m0\u001b[39m, \u001b[39m256\u001b[39m]\n\u001b[0;32m----> <a href='vscode-notebook-cell:/Users/com/dev/ssu_cv/ch05_image_brighness/03_histogram.ipynb#X35sZmlsZQ%3D%3D?line=5'>6</a>\u001b[0m hist \u001b[39m=\u001b[39m cv2\u001b[39m.\u001b[39;49mcalcHist([img], channels, \u001b[39mNone\u001b[39;49;00m, histSize, histRange)\n\u001b[1;32m      <a href='vscode-notebook-cell:/Users/com/dev/ssu_cv/ch05_image_brighness/03_histogram.ipynb#X35sZmlsZQ%3D%3D?line=6'>7</a>\u001b[0m \u001b[39mreturn\u001b[39;00m hist\n",
      "\u001b[0;31merror\u001b[0m: OpenCV(4.6.0) :-1: error: (-5:Bad argument) in function 'calcHist'\n> Overload resolution failed:\n>  - Can't parse 'images'. Sequence item with index 0 has a wrong type\n>  - Can't parse 'images'. Sequence item with index 0 has a wrong type\n"
     ]
    }
   ],
   "source": [
    "calcGrayHist('data/lenna.bmp')"
   ]
  },
  {
   "cell_type": "markdown",
   "metadata": {},
   "source": [
    "calcGrayHist() 함수는 내부에서 OpenCV 함수 calcHist()를 이용하여  \n",
    "그레이스케일 영상의 히스토그램을 표현하는 행렬 Hist를 구하여 반환 "
   ]
  },
  {
   "cell_type": "markdown",
   "metadata": {},
   "source": [
    "이때 반환되는 hist는 256 * 1 크기의 행렬  \n",
    "행 개수는 256이고, 열 개수는 1"
   ]
  },
  {
   "cell_type": "markdown",
   "metadata": {},
   "source": [
    "막대그래프 형태로 나타내려면 직접 hist 행렬을 참조하여 막대그래프 영상을 참조해야 함 "
   ]
  },
  {
   "cell_type": "markdown",
   "metadata": {},
   "source": [
    "## 히스토그램 평활화 "
   ]
  },
  {
   "cell_type": "markdown",
   "metadata": {},
   "source": [
    "먼저 히스토그램을 구해야 함 "
   ]
  },
  {
   "cell_type": "markdown",
   "metadata": {},
   "source": [
    "h(g)는 영상에서 그레이스케일 값이 g인 픽셀 개수  \n",
    "히스토그램 평활화를 계산하기 위해서는 h(g)로부터 히스토그램 누적 함수 H(g)를 구해야 함(0일때 부터)"
   ]
  },
  {
   "cell_type": "markdown",
   "metadata": {},
   "source": [
    "이 누적 함수를 픽셀 값 변환 함수로 사용 \n",
    "h(g)의 값은, 누적 함수이므로, 보통 grayscale의 값의 범위보다 훨씬 크다.  \n",
    "함수의 최댓값이 255가 되도록 정규화 "
   ]
  },
  {
   "cell_type": "markdown",
   "metadata": {},
   "source": [
    "0부터 내가 찾고자 하는 픽셀까지의 누적합 * L_max / N  \n",
    "L_max : 영상이 가질 수 있는 최대 밝기 -> grayscale에서는 255  \n",
    "round 함수로 반올림 "
   ]
  },
  {
   "cell_type": "markdown",
   "metadata": {},
   "source": []
  },
  {
   "cell_type": "markdown",
   "metadata": {},
   "source": []
  }
 ],
 "metadata": {
  "kernelspec": {
   "display_name": "env-keras",
   "language": "python",
   "name": "python3"
  },
  "language_info": {
   "codemirror_mode": {
    "name": "ipython",
    "version": 3
   },
   "file_extension": ".py",
   "mimetype": "text/x-python",
   "name": "python",
   "nbconvert_exporter": "python",
   "pygments_lexer": "ipython3",
   "version": "3.9.17"
  }
 },
 "nbformat": 4,
 "nbformat_minor": 2
}
