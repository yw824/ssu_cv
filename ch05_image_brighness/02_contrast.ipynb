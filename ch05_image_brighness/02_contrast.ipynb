{
 "cells": [
  {
   "cell_type": "code",
   "execution_count": 1,
   "metadata": {},
   "outputs": [],
   "source": [
    "import numpy as np\n",
    "import cv2 as cv"
   ]
  },
  {
   "cell_type": "markdown",
   "metadata": {},
   "source": [
    "## 기본적인 명암비 조절 방법 "
   ]
  },
  {
   "cell_type": "markdown",
   "metadata": {},
   "source": [
    "명암비 :  \n",
    "- 영상에서 밝은 영역과 어두운 영역 사이에 드러나는 밝기 차이의 강도  \n",
    "- 명암 대비 또는 콘트라스트(contrast)라고도 함 "
   ]
  },
  {
   "cell_type": "markdown",
   "metadata": {},
   "source": [
    "전반적으로 어둡거나 또는 전반적으로 밝은 픽셀로만 구성된 경우, 명암비가 낮다고 판단  \n",
    "- 일반적으로 명암비가 낮은 영상은 객체 간의 구성이 잘 되지 않아 전반적으로 흐릿함 "
   ]
  },
  {
   "cell_type": "markdown",
   "metadata": {},
   "source": [
    "명암비가 높은 영상 : 밝은 영역과 어두운 영역이 골고루 섞여 있는 영상  \n",
    "사물의 구분이 잘 되며 선명한 느낌 "
   ]
  },
  {
   "cell_type": "markdown",
   "metadata": {},
   "source": [
    "명암비 조절 방법 : 수식에서 s = 0.5인 경우와 s = 2인 경우의 그래프  \n",
    "```\n",
    "dst(x, y) = saturate(s, src(x, y))\n",
    "```"
   ]
  },
  {
   "cell_type": "markdown",
   "metadata": {},
   "source": [
    "[p25 - 이미지 입력 부분]"
   ]
  },
  {
   "cell_type": "code",
   "execution_count": 2,
   "metadata": {},
   "outputs": [],
   "source": [
    "# 입력 영상의 모든 픽셀 값에 2를 곱하여 영상 생성 \n",
    "def contrast1():\n",
    "    src = cv.imread('data/lenna.bmp', cv.IMREAD_GRAYSCALE)\n",
    "\n",
    "    if src is None:\n",
    "        print('Image Load failed')\n",
    "        return\n",
    "    \n",
    "    s = 2.0\n",
    "    dst = cv.multiply(src, s)\n",
    "\n",
    "    cv.imshow('src', src)\n",
    "    cv.imshow('dst', dst)\n",
    "    cv.waitKey()\n",
    "    cv.destroyAllWindows()"
   ]
  },
  {
   "cell_type": "code",
   "execution_count": 3,
   "metadata": {},
   "outputs": [],
   "source": [
    "contrast1()"
   ]
  },
  {
   "cell_type": "markdown",
   "metadata": {},
   "source": [
    "### 효과적인 명암비 조절 방법 "
   ]
  },
  {
   "cell_type": "markdown",
   "metadata": {},
   "source": [
    "명암비를 효과적으로 높이기 위해서는  \n",
    "밝은 픽셀은 더욱 밝게, 어두운 픽셀은 더욱 어둡게 변경  "
   ]
  },
  {
   "cell_type": "markdown",
   "metadata": {},
   "source": [
    "1. grayscale 범위 중간값인 128을 기준으로 설정 \n",
    "    - 입력 영상의 픽셀 값이 128보다 크면 더욱 밝게 만든다.\n",
    "    - 작으면 더욱 어둡게 만든다. "
   ]
  },
  {
   "cell_type": "markdown",
   "metadata": {},
   "source": [
    "2. 영상의 평균 밝기를 구하여 기준으로 설정 "
   ]
  },
  {
   "cell_type": "markdown",
   "metadata": {},
   "source": [
    "```\n",
    "dst(x, y) = src(x, y) + (src(x, y) - 128) * a\n",
    "```  \n",
    "a에 의해 기울기가 변경되는 직선의 방정식  \n",
    "src(x, y) - 128 값이 0 이상이면 더 밝아짐 // 이하이면 더 어두워짐 "
   ]
  },
  {
   "cell_type": "markdown",
   "metadata": {},
   "source": [
    "-1 < a < 0 이면 명암비를 감소시키는 변환  \n",
    "a > 0은 기울기가 1보다 큰 직선의 방정식이며, 이는 명암비를 증가시키는 변환  \n",
    "```\n",
    "src(x, y)(1 + a) - 128a\n",
    "```"
   ]
  },
  {
   "cell_type": "markdown",
   "metadata": {},
   "source": [
    "수식에 의해 계산되는 결과 영상의 픽셀 값은 0보다 작거나 255보다 커지는 경우가  \n",
    "발생할 수 있으므로 포화 연산 필요 "
   ]
  },
  {
   "cell_type": "markdown",
   "metadata": {},
   "source": [
    "앞 수식에서 a = 0.5 / a = 1.0인 경우의 함수 그래프를 나타냄   \n",
    "[p-30 이미지 삽입 부분] "
   ]
  },
  {
   "cell_type": "code",
   "execution_count": 7,
   "metadata": {},
   "outputs": [],
   "source": [
    "# a값 1.0을 사용하여 lenna 영상의 명암비를 증가시킴 \n",
    "def contrast2():\n",
    "    src = cv.imread('data/lenna.bmp', cv.IMREAD_GRAYSCALE)\n",
    "\n",
    "    if src is None:\n",
    "        print('Image load Failed')\n",
    "        return\n",
    "    \n",
    "    alpha = 1.0\n",
    "    dst = cv.convertScaleAbs(src, alpha=alpha, beta=128 * alpha)\n",
    "\n",
    "    cv.imshow('src', src)\n",
    "    cv.imshow('dst', dst)\n",
    "\n",
    "    cv.waitKey()\n",
    "    cv.destroyAllWindows()"
   ]
  },
  {
   "cell_type": "code",
   "execution_count": 8,
   "metadata": {},
   "outputs": [],
   "source": [
    "contrast2()"
   ]
  }
 ],
 "metadata": {
  "kernelspec": {
   "display_name": "env-keras",
   "language": "python",
   "name": "python3"
  },
  "language_info": {
   "codemirror_mode": {
    "name": "ipython",
    "version": 3
   },
   "file_extension": ".py",
   "mimetype": "text/x-python",
   "name": "python",
   "nbconvert_exporter": "python",
   "pygments_lexer": "ipython3",
   "version": "3.9.17"
  }
 },
 "nbformat": 4,
 "nbformat_minor": 2
}
