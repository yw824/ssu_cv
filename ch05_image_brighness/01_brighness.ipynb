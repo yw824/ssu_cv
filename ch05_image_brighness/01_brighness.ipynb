{
 "cells": [
  {
   "cell_type": "code",
   "execution_count": 6,
   "metadata": {},
   "outputs": [],
   "source": [
    "import numpy as np\n",
    "import cv2"
   ]
  },
  {
   "cell_type": "markdown",
   "metadata": {},
   "source": [
    "## 영상의 밝기 조절 : GrayScale 영상 다루기 "
   ]
  },
  {
   "cell_type": "markdown",
   "metadata": {},
   "source": [
    "openCV에서 grayscale로 형태를 불러오기 위하여 IMREAD_GRAYSCALE 플래그를 설정  \n"
   ]
  },
  {
   "cell_type": "markdown",
   "metadata": {},
   "source": [
    "```\n",
    "Mat img1 = imread('lenna.bmp', IMREAD_GRAYSCALE)\n",
    "```"
   ]
  },
  {
   "cell_type": "markdown",
   "metadata": {},
   "source": [
    "프로그램 동작 중 grayscale 영상을 저장할 새로운 공간을 생성하려면,  \n",
    "CV_8UC1 타입으로 생성  \n",
    "```\n",
    "Mat img2(480, 640, CV_8UC1, Scalar(0))\n",
    "```"
   ]
  },
  {
   "cell_type": "markdown",
   "metadata": {},
   "source": [
    "컬러 영상을 변환하기 위해서는 cvtColor() 함수 사용\n",
    "```  \n",
    "Mat img3 = imread('lenna.bmp', IMREAD_COLOR);\n",
    "Mat img4;\n",
    "cvtColor(img3, img4, COLOR_BGR2GRAY);\n",
    "```"
   ]
  },
  {
   "cell_type": "markdown",
   "metadata": {},
   "source": [
    "입력 영상의 모든 픽셀에 양수 값을 더하면 영상이 밝아지고,  \n",
    "반대로 양수 값을 빼면 영상이 어두워짐 "
   ]
  },
  {
   "cell_type": "markdown",
   "metadata": {},
   "source": [
    "영상의 밝기 조절 함수의 그래프  "
   ]
  },
  {
   "cell_type": "markdown",
   "metadata": {},
   "source": [
    "overflow 막기 위함 -> 더한 값과 255 중 더 작은 값으로 설정 : 최대 255로 고정  \n",
    "- 최소 값 0으로 설정 \n",
    "- 포화(saturate) 연산 "
   ]
  },
  {
   "cell_type": "markdown",
   "metadata": {},
   "source": [
    "```\n",
    "dst(x, y) = saturate(src(x, y) + n)\n",
    "```"
   ]
  },
  {
   "cell_type": "markdown",
   "metadata": {},
   "source": [
    "cv22의 add 함수 활용 "
   ]
  },
  {
   "cell_type": "code",
   "execution_count": 4,
   "metadata": {},
   "outputs": [],
   "source": [
    "def brightness1():\n",
    "    src = cv2.imread('data/lenna.bmp', cv2.IMREAD_GRAYSCALE)\n",
    "\n",
    "    if src is None:\n",
    "        print(\"Image Load failed!\")\n",
    "        return\n",
    "    \n",
    "    dst = cv2.add(src, 100) # 100만큼 추가 \n",
    "\n",
    "    cv2.imshow('src', src)\n",
    "    cv2.imshow('dst', dst)\n",
    "    cv2.waitKey()\n",
    "    cv2.destroyAllWindows()"
   ]
  },
  {
   "cell_type": "code",
   "execution_count": 5,
   "metadata": {},
   "outputs": [],
   "source": [
    "brightness1()"
   ]
  },
  {
   "cell_type": "markdown",
   "metadata": {},
   "source": [
    "만약 영상을 전체적으로 어둡게 만들고 싶다면,  \n",
    "덧셈 대신 뺄셈 적용  \n",
    "```\n",
    "dst = cv2.subtract(src, 100)\n",
    "```"
   ]
  },
  {
   "cell_type": "code",
   "execution_count": 7,
   "metadata": {},
   "outputs": [],
   "source": [
    "# 영상의 밝기 직접 구현하기 \n",
    "def brightness2():\n",
    "    src = cv2.imread('lenna.bmp', cv2.IMREAD_GRAYSCALE)\n",
    "\n",
    "    if src is None:\n",
    "        print(\"Image Load Failed!\")\n",
    "        return\n",
    "    \n",
    "    dst = np.empty(src.shape, src.dtype)\n",
    "    \n",
    "    for y in range(src.shape[0]):\n",
    "        for x in range(src.shape[1]):\n",
    "            dst[y, x] = max(0, min(255, src[y, x] + 100))\n",
    "\n",
    "    cv2.imshow('src', src)\n",
    "    cv2.inshow('dst', dst) \n",
    "    cv2.waitKey()\n",
    "    cv2.destroyAllWindows()"
   ]
  },
  {
   "cell_type": "code",
   "execution_count": 12,
   "metadata": {},
   "outputs": [],
   "source": [
    "# 트랙 바를 이용한 영상의 밝기 조절 \n",
    "def brightness4():\n",
    "    src = cv2.imread('data/lenna.bmp', cv2.IMREAD_GRAYSCALE)\n",
    "\n",
    "    if src is None:\n",
    "        print('Image Load Failed')\n",
    "        return True\n",
    "    \n",
    "    def update(pos):\n",
    "        dst = cv2.add(src, pos)\n",
    "        cv2.imshow('dst', dst)\n",
    "    \n",
    "    cv2.namedWindow('dst')\n",
    "    cv2.createTrackbar('Brightness', 'dst', 0, 100, update)\n",
    "    update(0) # 초기값 넣어서 명시적 화면상 호출 \n",
    "\n",
    "    cv2.waitKey()\n",
    "    cv2.destroyAllWindows()"
   ]
  },
  {
   "cell_type": "code",
   "execution_count": 13,
   "metadata": {},
   "outputs": [
    {
     "ename": "",
     "evalue": "",
     "output_type": "error",
     "traceback": [
      "\u001b[1;31mThe Kernel crashed while executing code in the the current cell or a previous cell. Please review the code in the cell(s) to identify a possible cause of the failure. Click <a href='https://aka.ms/vscodeJupyterKernelCrash'>here</a> for more info. View Jupyter <a href='command:jupyter.viewOutput'>log</a> for further details."
     ]
    }
   ],
   "source": [
    "brightness4()"
   ]
  }
 ],
 "metadata": {
  "kernelspec": {
   "display_name": "env-keras",
   "language": "python",
   "name": "python3"
  },
  "language_info": {
   "codemirror_mode": {
    "name": "ipython",
    "version": 3
   },
   "file_extension": ".py",
   "mimetype": "text/x-python",
   "name": "python",
   "nbconvert_exporter": "python",
   "pygments_lexer": "ipython3",
   "version": "3.9.17"
  },
  "orig_nbformat": 4
 },
 "nbformat": 4,
 "nbformat_minor": 2
}
