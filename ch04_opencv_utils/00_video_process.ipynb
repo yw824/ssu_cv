{
 "cells": [
  {
   "cell_type": "markdown",
   "metadata": {},
   "source": [
    "### 동영상의 처리 "
   ]
  },
  {
   "cell_type": "markdown",
   "metadata": {},
   "source": [
    "동영상 : 일련의 정지 영상을 압축하여 파일로 저장한 형태  \n",
    "- 프레임(frame) : 저장되어 있는 일련의 정지 영상 "
   ]
  },
  {
   "cell_type": "markdown",
   "metadata": {},
   "source": [
    "동영상을 처리하는 작업 순서 \n",
    "- 프레임 추출 \n",
    "- 각각의 프레임에 영상 처리 기법을 적용 "
   ]
  },
  {
   "cell_type": "markdown",
   "metadata": {},
   "source": [
    "- 컴퓨터에 연결된 카메라 장치를 사용하는 작업도 카메라로부터 \n",
    "- 일정 시간 간격으로 정지 영상 프레임을 받아와서 처리하는 형태 \n",
    "- 30fps : 1초에 30장의 정지영상이 나에게 날라오는 것 "
   ]
  },
  {
   "cell_type": "markdown",
   "metadata": {},
   "source": [
    "카메라와 동영상 파일을 다루는 작업 : 연속적인 프레임 영상을 받아와서 처리한다는 공통점이 있음  \n",
    "- VideoCapture라는 하나의 클래스를 이용 "
   ]
  },
  {
   "cell_type": "markdown",
   "metadata": {},
   "source": [
    "카메라 렌즈를 불러온 다음, 열려있는지 확인하기 위해 \n",
    "- `cv.VideoCapture().isOpened()` 함수를 사용 "
   ]
  }
 ],
 "metadata": {
  "language_info": {
   "name": "python"
  },
  "orig_nbformat": 4
 },
 "nbformat": 4,
 "nbformat_minor": 2
}
